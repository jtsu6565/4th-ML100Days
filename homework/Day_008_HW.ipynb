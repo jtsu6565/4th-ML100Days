{
 "cells": [
  {
   "cell_type": "markdown",
   "metadata": {},
   "source": [
    "# [作業目標]\n",
    "- 對資料做更多處理 : 顯示特定欄位的統計值與直方圖"
   ]
  },
  {
   "cell_type": "markdown",
   "metadata": {},
   "source": [
    "# [作業重點]\n",
    "- 試著顯示特定欄位的基礎統計數值 (In[4], Out[4], Hint : describe())\n",
    "- 試著顯示特定欄位的直方圖 (In[5], Out[5], Hint : .hist())"
   ]
  },
  {
   "cell_type": "code",
   "execution_count": 1,
   "metadata": {},
   "outputs": [],
   "source": [
    "# Import 需要的套件\n",
    "import os\n",
    "import numpy as np\n",
    "import pandas as pd\n",
    "\n",
    "# 設定 data_path\n",
    "dir_data = '/Users/terence.su/data/'"
   ]
  },
  {
   "cell_type": "code",
   "execution_count": 18,
   "metadata": {},
   "outputs": [
    {
     "name": "stdout",
     "output_type": "stream",
     "text": [
      "\n",
      "The max value of AMT_INCOME_TOTAL is :117000000.0\n",
      "The min value of AMT_INCOME_TOTAL is :25650.0\n",
      "The mean value of AMT_INCOME_TOTAL is :168797.9192969845\n",
      "The std value of AMT_INCOME_TOTAL is :237123.14627883647\n",
      "\n",
      "The max value of AMT_CREDIT is :4050000.0\n",
      "The min value of AMT_CREDIT is :45000.0\n",
      "The mean value of AMT_CREDIT is :599025.9997057016\n",
      "The std value of AMT_CREDIT is :402490.776995946\n",
      "\n",
      "The max value of AMT_GOODS_PRICE is :4050000.0\n",
      "The min value of AMT_GOODS_PRICE is :40500.0\n",
      "The mean value of AMT_GOODS_PRICE is :538396.2074288895\n",
      "The std value of AMT_GOODS_PRICE is :369446.4605400129\n",
      "\n",
      "The max value of AMT_ANNUITY is :258025.5\n",
      "The min value of AMT_ANNUITY is :1615.5\n",
      "The mean value of AMT_ANNUITY is :27108.573909183444\n",
      "The std value of AMT_ANNUITY is :14493.737315117392\n"
     ]
    }
   ],
   "source": [
    "f_app_train = os.path.join(dir_data, 'application_train.csv')\n",
    "app_train = pd.read_csv(f_app_train)\n",
    "app_train.shape\n",
    "AMT_INCOME_TOTAL = app_train['AMT_INCOME_TOTAL']\n",
    "max_AMT_INCOME_TOTAL = app_train['AMT_INCOME_TOTAL'].max()\n",
    "min_AMT_INCOME_TOTAL = app_train['AMT_INCOME_TOTAL'].min()\n",
    "mean_AMT_INCOME_TOTAL = app_train['AMT_INCOME_TOTAL'].mean()\n",
    "std_AMT_INCOME_TOTAL = app_train['AMT_INCOME_TOTAL'].std()\n",
    "#print(AMT_INCOME_TOTAL)\n",
    "print()\n",
    "## \"https://ithelp.ithome.com.tw/articles/10204118\" 各種統計資料\n",
    "print(\"The max value of AMT_INCOME_TOTAL is :\" + str(max_AMT_INCOME_TOTAL))\n",
    "print(\"The min value of AMT_INCOME_TOTAL is :\" + str(min_AMT_INCOME_TOTAL))\n",
    "print(\"The mean value of AMT_INCOME_TOTAL is :\" + str(mean_AMT_INCOME_TOTAL))\n",
    "print(\"The std value of AMT_INCOME_TOTAL is :\" + str(std_AMT_INCOME_TOTAL))\n",
    "\n",
    "###\n",
    "\n",
    "AMT_CREDIT = app_train['AMT_CREDIT']\n",
    "max_AMT_CREDITL = app_train['AMT_CREDIT'].max()\n",
    "min_AMT_CREDITL = app_train['AMT_CREDIT'].min()\n",
    "mean_AMT_CREDITL = app_train['AMT_CREDIT'].mean()\n",
    "std_AMT_CREDITL = app_train['AMT_CREDIT'].std()\n",
    "print()\n",
    "print(\"The max value of AMT_CREDIT is :\" + str(max_AMT_CREDITL))\n",
    "print(\"The min value of AMT_CREDIT is :\" + str(min_AMT_CREDITL))\n",
    "print(\"The mean value of AMT_CREDIT is :\" + str(mean_AMT_CREDITL))\n",
    "print(\"The std value of AMT_CREDIT is :\" + str(std_AMT_CREDITL))\n",
    "\n",
    "###\n",
    "\n",
    "AMT_GOODS_PRICE = app_train['AMT_GOODS_PRICE']\n",
    "max_AMT_GOODS_PRICE = app_train['AMT_GOODS_PRICE'].max()\n",
    "min_AMT_GOODS_PRICE = app_train['AMT_GOODS_PRICE'].min()\n",
    "mean_AMT_GOODS_PRICE = app_train['AMT_GOODS_PRICE'].mean()\n",
    "std_AMT_GOODS_PRICE = app_train['AMT_GOODS_PRICE'].std()\n",
    "print()\n",
    "print(\"The max value of AMT_GOODS_PRICE is :\" + str(max_AMT_GOODS_PRICE))\n",
    "print(\"The min value of AMT_GOODS_PRICE is :\" + str(min_AMT_GOODS_PRICE))\n",
    "print(\"The mean value of AMT_GOODS_PRICE is :\" + str(mean_AMT_GOODS_PRICE))\n",
    "print(\"The std value of AMT_GOODS_PRICE is :\" + str(std_AMT_GOODS_PRICE))\n",
    "\n",
    "###\n",
    "\n",
    "AMT_ANNUITY = app_train['AMT_ANNUITY']\n",
    "max_AMT_ANNUITY = app_train['AMT_ANNUITY'].max()\n",
    "min_AMT_ANNUITY = app_train['AMT_ANNUITY'].min()\n",
    "mean_AMT_ANNUITY = app_train['AMT_ANNUITY'].mean()\n",
    "std_AMT_ANNUITY = app_train['AMT_ANNUITY'].std()\n",
    "print()\n",
    "print(\"The max value of AMT_ANNUITY is :\" + str(max_AMT_ANNUITY))\n",
    "print(\"The min value of AMT_ANNUITY is :\" + str(min_AMT_ANNUITY))\n",
    "print(\"The mean value of AMT_ANNUITY is :\" + str(mean_AMT_ANNUITY))\n",
    "print(\"The std value of AMT_ANNUITY is :\" + str(std_AMT_ANNUITY))"
   ]
  },
  {
   "cell_type": "code",
   "execution_count": 19,
   "metadata": {},
   "outputs": [
    {
     "data": {
      "text/html": [
       "<div>\n",
       "<style scoped>\n",
       "    .dataframe tbody tr th:only-of-type {\n",
       "        vertical-align: middle;\n",
       "    }\n",
       "\n",
       "    .dataframe tbody tr th {\n",
       "        vertical-align: top;\n",
       "    }\n",
       "\n",
       "    .dataframe thead th {\n",
       "        text-align: right;\n",
       "    }\n",
       "</style>\n",
       "<table border=\"1\" class=\"dataframe\">\n",
       "  <thead>\n",
       "    <tr style=\"text-align: right;\">\n",
       "      <th></th>\n",
       "      <th>KIND</th>\n",
       "      <th>Maximum</th>\n",
       "      <th>Mean</th>\n",
       "      <th>Minimum</th>\n",
       "      <th>Standard</th>\n",
       "    </tr>\n",
       "  </thead>\n",
       "  <tbody>\n",
       "    <tr>\n",
       "      <th>0</th>\n",
       "      <td>AMT_INCOME_TOTAL</td>\n",
       "      <td>117000000.0</td>\n",
       "      <td>168797.919297</td>\n",
       "      <td>25650.0</td>\n",
       "      <td>237123.146279</td>\n",
       "    </tr>\n",
       "    <tr>\n",
       "      <th>1</th>\n",
       "      <td>AMT_CREDIT</td>\n",
       "      <td>4050000.0</td>\n",
       "      <td>599025.999706</td>\n",
       "      <td>45000.0</td>\n",
       "      <td>402490.776996</td>\n",
       "    </tr>\n",
       "    <tr>\n",
       "      <th>2</th>\n",
       "      <td>AMT_GOODS_PRICE</td>\n",
       "      <td>4050000.0</td>\n",
       "      <td>538396.207429</td>\n",
       "      <td>40500.0</td>\n",
       "      <td>369446.460540</td>\n",
       "    </tr>\n",
       "    <tr>\n",
       "      <th>3</th>\n",
       "      <td>AMT_ANNUITY</td>\n",
       "      <td>258025.5</td>\n",
       "      <td>27108.573909</td>\n",
       "      <td>1615.5</td>\n",
       "      <td>14493.737315</td>\n",
       "    </tr>\n",
       "  </tbody>\n",
       "</table>\n",
       "</div>"
      ],
      "text/plain": [
       "               KIND      Maximum           Mean  Minimum       Standard\n",
       "0  AMT_INCOME_TOTAL  117000000.0  168797.919297  25650.0  237123.146279\n",
       "1        AMT_CREDIT    4050000.0  599025.999706  45000.0  402490.776996\n",
       "2   AMT_GOODS_PRICE    4050000.0  538396.207429  40500.0  369446.460540\n",
       "3       AMT_ANNUITY     258025.5   27108.573909   1615.5   14493.737315"
      ]
     },
     "execution_count": 19,
     "metadata": {},
     "output_type": "execute_result"
    }
   ],
   "source": [
    "kind=['AMT_INCOME_TOTAL','AMT_CREDIT','AMT_GOODS_PRICE','AMT_ANNUITY']\n",
    "maxi=[max_AMT_INCOME_TOTAL,max_AMT_CREDITL,max_AMT_GOODS_PRICE,max_AMT_ANNUITY]\n",
    "mini=[min_AMT_INCOME_TOTAL,min_AMT_CREDITL,min_AMT_GOODS_PRICE,min_AMT_ANNUITY]\n",
    "mean=[mean_AMT_INCOME_TOTAL,mean_AMT_CREDITL,mean_AMT_GOODS_PRICE,mean_AMT_ANNUITY]\n",
    "std=[std_AMT_INCOME_TOTAL,std_AMT_CREDITL,std_AMT_GOODS_PRICE,std_AMT_ANNUITY]\n",
    "dic={'KIND':kind,'Maximum':maxi,'Minimum':mini,\"Mean\":mean,\"Standard\":std}\n",
    "data=pd.DataFrame(dic)\n",
    "data"
   ]
  },
  {
   "cell_type": "code",
   "execution_count": 21,
   "metadata": {},
   "outputs": [
    {
     "data": {
      "text/plain": [
       "<matplotlib.axes._subplots.AxesSubplot at 0x2ca01180a90>"
      ]
     },
     "execution_count": 21,
     "metadata": {},
     "output_type": "execute_result"
    },
    {
     "data": {
      "image/png": "[encoded data removed]",
      "text/plain": [
       "<matplotlib.figure.Figure at 0x2ca34d49c88>"
      ]
     },
     "metadata": {},
     "output_type": "display_data"
    }
   ],
   "source": [
    "import matplotlib.pyplot as plt\n",
    "%matplotlib inline\n",
    "data.plot(kind=\"bar\")"
   ]
  },
  {
   "cell_type": "markdown",
   "metadata": {},
   "source": [
    "## 練習時間"
   ]
  },
  {
   "cell_type": "markdown",
   "metadata": {},
   "source": [
    "觀察有興趣的欄位的資料分佈，並嘗試找出有趣的訊息\n",
    "#### Eg\n",
    "- 計算任意欄位的平均數及標準差\n",
    "- 畫出任意欄位的[直方圖](https://zh.wikipedia.org/zh-tw/%E7%9B%B4%E6%96%B9%E5%9B%BE)\n",
    "\n",
    "### Hints:\n",
    "- [Descriptive Statistics For pandas Dataframe](https://chrisalbon.com/python/data_wrangling/pandas_dataframe_descriptive_stats/)\n",
    "- [pandas 中的繪圖函數](https://amaozhao.gitbooks.io/pandas-notebook/content/pandas%E4%B8%AD%E7%9A%84%E7%BB%98%E5%9B%BE%E5%87%BD%E6%95%B0.html)\n"
   ]
  },
  {
   "cell_type": "code",
   "execution_count": null,
   "metadata": {
    "collapsed": true
   },
   "outputs": [],
   "source": []
  }
 ],
 "metadata": {
  "kernelspec": {
   "display_name": "Python 3",
   "language": "python",
   "name": "python3"
  },
  "language_info": {
   "codemirror_mode": {
    "name": "ipython",
    "version": 3
   },
   "file_extension": ".py",
   "mimetype": "text/x-python",
   "name": "python",
   "nbconvert_exporter": "python",
   "pygments_lexer": "ipython3",
   "version": "3.6.4"
  }
 },
 "nbformat": 4,
 "nbformat_minor": 2
}
