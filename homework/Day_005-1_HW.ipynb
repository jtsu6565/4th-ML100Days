{
 "cells": [
  {
   "cell_type": "markdown",
   "metadata": {},
   "source": [
    "# [作業目標]\n",
    "- 利用範例的創建方式, 創建一組資料, 並練習如何取出最大值"
   ]
  },
  {
   "cell_type": "markdown",
   "metadata": {},
   "source": [
    "# [作業重點]\n",
    "- 練習創立 DataFrame (In[2])\n",
    "- 如何取出口數最多的國家 (In[3], Out[3])"
   ]
  },
  {
   "cell_type": "markdown",
   "metadata": {},
   "source": [
    "## 練習時間\n",
    "在小量的資料上，我們用眼睛就可以看得出來程式碼是否有跑出我們理想中的結果\n",
    "\n",
    "請嘗試想像一個你需要的資料結構 (裡面的值可以是隨機的)，然後用上述的方法把它變成 pandas DataFrame\n",
    "\n",
    "#### Ex: 想像一個 dataframe 有兩個欄位，一個是國家，一個是人口，求人口數最多的國家\n",
    "\n",
    "### Hints: [隨機產生數值](https://blog.csdn.net/christianashannon/article/details/78867204)"
   ]
  },
  {
   "cell_type": "code",
   "execution_count": 2,
   "metadata": {},
   "outputs": [],
   "source": [
    "import pandas as pd\n",
    "import numpy as np\n",
    "import random"
   ]
  },
  {
   "cell_type": "code",
   "execution_count": 3,
   "metadata": {},
   "outputs": [
    {
     "name": "stdout",
     "output_type": "stream",
     "text": [
      "        人口   國家\n",
      "0  6588569   台灣\n",
      "1  2040094   日本\n",
      "2  3819125   泰國\n",
      "3  9957224   美國\n",
      "4   846330  新加坡\n",
      "\n",
      "人口    9957224\n",
      "國家         美國\n",
      "dtype: object\n",
      "\n",
      "人口    846330\n",
      "國家        台灣\n",
      "dtype: object\n",
      "\n",
      "人口    4650268.4\n",
      "dtype: float64\n",
      "\n"
     ]
    }
   ],
   "source": [
    "#data = {'國家': [\"台灣\",\"日本\"],'人口':[23780000,126800000] }\n",
    "data = {'國家': [\"台灣\",\"日本\",\"泰國\",\"美國\",\"新加坡\"],'人口':np.random.randint(10000000,size=5) }\n",
    "#data = pd.DataFrame()\n",
    "popular = pd.DataFrame(data)\n",
    "max=popular.max()\n",
    "min=popular.min()\n",
    "mean=popular.mean()\n",
    "print(popular)\n",
    "print(\"\")\n",
    "print(max)\n",
    "print(\"\")\n",
    "print(min)\n",
    "print(\"\")\n",
    "print(mean)\n",
    "print(\"\")"
   ]
  },
  {
   "cell_type": "code",
   "execution_count": null,
   "metadata": {},
   "outputs": [],
   "source": []
  }
 ],
 "metadata": {
  "kernelspec": {
   "display_name": "Python 3",
   "language": "python",
   "name": "python3"
  },
  "language_info": {
   "codemirror_mode": {
    "name": "ipython",
    "version": 3
   },
   "file_extension": ".py",
   "mimetype": "text/x-python",
   "name": "python",
   "nbconvert_exporter": "python",
   "pygments_lexer": "ipython3",
   "version": "3.6.4"
  }
 },
 "nbformat": 4,
 "nbformat_minor": 2
}
