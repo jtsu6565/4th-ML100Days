{
 "cells": [
  {
   "cell_type": "markdown",
   "metadata": {},
   "source": [
    "## [作業目標]\n",
    "持續接觸有關機器學習的相關專案與最新技術"
   ]
  },
  {
   "cell_type": "markdown",
   "metadata": {},
   "source": [
    "## [作業重點]\n",
    "透過觀察頂尖公司的機器學習文章，來了解各公司是怎麼應用機器學習在實際的專案上"
   ]
  },
  {
   "cell_type": "markdown",
   "metadata": {},
   "source": [
    "## [作業]\n",
    "今天的作業希望大家能夠看看全球機器學習巨頭們在做的機器學習專案。以 google 為例，下圖是 Google 內部專案使用機器學習的數量，隨著時間進展，現在早已超過 2000 個專案在使用機器學習。"
   ]
  },
  {
   "cell_type": "markdown",
   "metadata": {},
   "source": [
    "![image](https://cdn-images-1.medium.com/max/800/1*U_L8qI8RmYS-MOBrYvXhSA.png)"
   ]
  },
  {
   "cell_type": "markdown",
   "metadata": {},
   "source": [
    "底下幫同學整理幾間知名企業的 blog 或機器學習網站 (自行搜尋也可)，這些網站都會整理最新的機器學習專案或者是技術文章，請挑選一篇文章閱讀並試著回答\n",
    "1. 專案的目標？ (要解決什麼問題）\n",
    "\n",
    "透明物體（例如玻璃容器）會混淆常用的昂貴傳感器。這是因為光學3D傳感器由假定所有表面均為朗伯型的驅動算法，它們在所有方向上均等地反射光，從而在所有視角下都具有均勻的表面亮度。但是，透明物體違反了這一假設，因為它們的表面既折射又反射光。因此，來自透明物體的大多數深度數據無效或包含不可預測的噪聲。機器能夠更好地感知透明表面，不僅可以提高安全性，而且還可以在非結構化應用程序中開啟一系列新的交互作用，從處理廚具或分類塑料以進行回收利用的機器人到導航室內環境或在玻璃桌面上生成AR可視化效果。\n",
    "\n",
    "2. 使用的技術是？ (只需知道名稱即可，例如：使用 CNN 卷積神經網路做影像分類)\n",
    "\n",
    "合作開發了ClearGrasp，這是一種機器學習算法，能夠從RGB-D圖像估計透明物體的準確3D數據。\n",
    "ClearGrasp算法\n",
    "ClearGrasp使用3個神經網絡：一個用於估計表面法線的網絡，一個用於遮擋邊界（深度不連續）的網絡，另一個用於遮蓋透明對象的網絡。遮罩用於刪除屬於透明對象的所有像素，以便可以填充正確的深度。然後，我們使用全局優化模塊，該模塊開始使用已知的表面法線來引導已知曲面的深度來引導已知曲面的形狀。重建，以及預測的遮擋邊界以保持不同對象之間的分離。\n",
    "\n",
    "3. 資料來源？ \n",
    "\n",
    "透明對象的可視數據集\n",
    "需要大量數據來訓練任何有效的深度學習模型（例如，用於視覺的ImageNet或用於BERT的Wikipedia），ClearGrasp也不例外。不幸的是，沒有透明物體的3D數據集。現有的3D數據集（例如Matterport3D或ScanNet）會忽略透明表面，因為它們需要昂貴且耗時的標記過程。 為了解決這個問題，我們創建了自己的透明對像大規模數據集，其中包含超過50,000個具有真實表面法線的逼真的渲染，對於訓練各種2D和3D檢測任務很有用。每個圖像最多包含五個透明物體，這些物體在平坦的地平面上或在手提袋內，具有不同的背景和照明。我們還包括286個真實世界圖像的測試集，並具有相應的地面真實深度。\n"
   ]
  },
  {
   "cell_type": "markdown",
   "metadata": {},
   "source": [
    "- [Google AI blog](https://ai.googleblog.com/)\n",
    "- [Facebook Research blog](https://research.fb.com/blog/)\n",
    "- [Apple machine learning journal](https://machinelearning.apple.com/)\n",
    "- [機器之心](https://www.jiqizhixin.com/)\n",
    "- [雷鋒網](http://www.leiphone.com/category/ai)"
   ]
  },
  {
   "cell_type": "code",
   "execution_count": null,
   "metadata": {},
   "outputs": [],
   "source": []
  }
 ],
 "metadata": {
  "kernelspec": {
   "display_name": "Python 3",
   "language": "python",
   "name": "python3"
  },
  "language_info": {
   "codemirror_mode": {
    "name": "ipython",
    "version": 3
   },
   "file_extension": ".py",
   "mimetype": "text/x-python",
   "name": "python",
   "nbconvert_exporter": "python",
   "pygments_lexer": "ipython3",
   "version": "3.6.4"
  }
 },
 "nbformat": 4,
 "nbformat_minor": 2
}
